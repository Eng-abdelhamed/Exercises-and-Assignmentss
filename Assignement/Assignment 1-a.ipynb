{
 "cells": [
  {
   "cell_type": "markdown",
   "metadata": {},
   "source": [
    "## Python Task 3"
   ]
  },
  {
   "cell_type": "markdown",
   "metadata": {},
   "source": [
    "### Question: Count Vowels in a String\n",
    "\n",
    "**Description:** Write a function named count_vowels that takes a string as an argument and returns the count of vowels (a, e, i, o, u) in the string. \n",
    "\n",
    "The function should be case-insensitive, counting both uppercase and lowercase vowels.\n"
   ]
  },
  {
   "cell_type": "code",
   "execution_count": null,
   "metadata": {},
   "outputs": [],
   "source": [
    "'''\n",
    "# Example Input:\n",
    "text = \"Hello World\"\n",
    "# Expected Output:\n",
    "3\n",
    "'''\n"
   ]
  },
  {
   "cell_type": "code",
   "execution_count": 17,
   "metadata": {},
   "outputs": [
    {
     "name": "stdin",
     "output_type": "stream",
     "text": [
      "Enter name : Hello World\n"
     ]
    },
    {
     "name": "stdout",
     "output_type": "stream",
     "text": [
      "The Vowel Numbers In the Name Are : 3\n"
     ]
    }
   ],
   "source": [
    "def count_vowels(name):\n",
    "   name = name.lower()\n",
    "   counter = 0\n",
    "   vowels_list=['a','e','i','o','u']\n",
    "   for i in name:\n",
    "    for j in vowels_list:\n",
    "        if i == j:\n",
    "           counter+=1\n",
    "   return(counter)\n",
    "\n",
    "name = input(\"Enter name :\")\n",
    "print(f\"The Vowel Numbers In the Name Are : {count_vowels(name)}\")"
   ]
  },
  {
   "cell_type": "markdown",
   "metadata": {},
   "source": [
    "### Question: Find the Maximum Value in a List Using a Function\n",
    "Description: Write a function named find_max that takes a list of integers as an argument and returns the maximum value in the list. \n",
    "\n",
    "Do not use Python’s built-in max() function. The function should handle cases where the list is empty by returning None.\n"
   ]
  },
  {
   "cell_type": "code",
   "execution_count": 25,
   "metadata": {},
   "outputs": [
    {
     "name": "stdin",
     "output_type": "stream",
     "text": [
      "Enter number 1 : 45\n",
      "Enter number 2 : 45\n",
      "Enter number 3 : 45\n",
      "Enter number 4 : 77\n",
      "Enter number 5 : 190\n"
     ]
    },
    {
     "name": "stdout",
     "output_type": "stream",
     "text": [
      "The Max Number In The List Is : 190\n"
     ]
    }
   ],
   "source": [
    "def Find_Max(list_number):\n",
    "    if len(list_number) == 0:\n",
    "        return None\n",
    "    max_number =  list_number[0]\n",
    "    for numbers in list_number:    \n",
    "        if numbers > max_number:\n",
    "            max_number = numbers\n",
    "    return max_number        \n",
    "\n",
    "list_numbers =[]\n",
    "for numbers in range(5):\n",
    "    num = int(input(\"Enter number %d :\"%(numbers+1)))\n",
    "    list_numbers.append(num)\n",
    "print(f\"The Max Number In The List Is : {Find_Max(list_numbers)}\")    "
   ]
  },
  {
   "cell_type": "code",
   "execution_count": null,
   "metadata": {},
   "outputs": [],
   "source": []
  }
 ],
 "metadata": {
  "kernelspec": {
   "display_name": "Python 3 (ipykernel)",
   "language": "python",
   "name": "python3"
  },
  "language_info": {
   "codemirror_mode": {
    "name": "ipython",
    "version": 3
   },
   "file_extension": ".py",
   "mimetype": "text/x-python",
   "name": "python",
   "nbconvert_exporter": "python",
   "pygments_lexer": "ipython3",
   "version": "3.12.7"
  }
 },
 "nbformat": 4,
 "nbformat_minor": 4
}
